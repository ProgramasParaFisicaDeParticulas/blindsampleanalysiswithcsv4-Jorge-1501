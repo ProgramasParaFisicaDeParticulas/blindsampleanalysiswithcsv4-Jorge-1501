{
  "nbformat": 4,
  "nbformat_minor": 0,
  "metadata": {
    "colab": {
      "provenance": [],
      "authorship_tag": "ABX9TyMlpIJSZY7p8CpoR/8vokCP"
    },
    "kernelspec": {
      "name": "python3",
      "display_name": "Python 3"
    },
    "language_info": {
      "name": "python"
    }
  },
  "cells": [
    {
      "cell_type": "markdown",
      "metadata": {
        "id": "504lE174Z_-F"
      },
      "source": [
        "# Ingreso a Drive y GitHub"
      ]
    },
    {
      "cell_type": "code",
      "execution_count": 37,
      "metadata": {
        "colab": {
          "base_uri": "https://localhost:8080/"
        },
        "id": "V8G4PRQ-r7Gz",
        "outputId": "029d94a2-e502-4902-cd64-6b610cebcb5c"
      },
      "outputs": [
        {
          "output_type": "stream",
          "name": "stdout",
          "text": [
            "Drive already mounted at /content/drive; to attempt to forcibly remount, call drive.mount(\"/content/drive\", force_remount=True).\n"
          ]
        }
      ],
      "source": [
        "from google.colab import drive\n",
        "drive.mount('/content/drive')"
      ]
    },
    {
      "cell_type": "code",
      "execution_count": 40,
      "metadata": {
        "id": "I7oveAMer7G8"
      },
      "outputs": [],
      "source": [
        "from config2 import USER_EMAIL, USER_NAME, PASSWORD\n",
        "\n",
        "PASS = PASSWORD\n",
        "USUARIO = USER_NAME\n",
        "EMAIL = USER_EMAIL\n",
        "\n",
        "\n",
        "!git config --global user.email {EMAIL}\n",
        "!git config --global user.name {USUARIO}\n",
        "!git config --global user.password {PASS}"
      ]
    },
    {
      "cell_type": "code",
      "execution_count": 41,
      "metadata": {
        "colab": {
          "base_uri": "https://localhost:8080/"
        },
        "id": "n6rPAWGrnOTH",
        "outputId": "9664ebaa-d327-4fea-e1ad-48c365c74605"
      },
      "outputs": [
        {
          "output_type": "stream",
          "name": "stdout",
          "text": [
            "/content/drive/MyDrive/Física trabajos/Delfin 2024\n"
          ]
        }
      ],
      "source": [
        "%cd /content/drive/MyDrive/Física\\ trabajos/Delfin \\2024"
      ]
    },
    {
      "cell_type": "code",
      "source": [
        "%cd blindsampleanalysiswithcsv4-Jorge-1501/"
      ],
      "metadata": {
        "colab": {
          "base_uri": "https://localhost:8080/"
        },
        "id": "BAJ06TV5AOwA",
        "outputId": "d19a7ea8-8faa-49c9-af10-03ba865b8925"
      },
      "execution_count": 43,
      "outputs": [
        {
          "output_type": "stream",
          "name": "stdout",
          "text": [
            "/content/drive/MyDrive/Física trabajos/Delfin 2024/blindsampleanalysiswithcsv4-Jorge-1501\n"
          ]
        }
      ]
    },
    {
      "cell_type": "code",
      "source": [
        "!ls"
      ],
      "metadata": {
        "colab": {
          "base_uri": "https://localhost:8080/"
        },
        "id": "dcecpLmM_mdy",
        "outputId": "b0ed8f33-781b-4150-dc51-16067c04edb7"
      },
      "execution_count": 47,
      "outputs": [
        {
          "output_type": "stream",
          "name": "stdout",
          "text": [
            "Exploracion.ipynb  README.md  Sample4.csv\n"
          ]
        }
      ]
    },
    {
      "cell_type": "code",
      "source": [
        "!git status"
      ],
      "metadata": {
        "colab": {
          "base_uri": "https://localhost:8080/"
        },
        "id": "UnYHogNQpV-C",
        "outputId": "4e0e70aa-b0b8-41a5-a311-661d38b01162"
      },
      "execution_count": 50,
      "outputs": [
        {
          "output_type": "stream",
          "name": "stdout",
          "text": [
            "On branch main\n",
            "Your branch is ahead of 'origin/main' by 2 commits.\n",
            "  (use \"git push\" to publish your local commits)\n",
            "\n",
            "Changes not staged for commit:\n",
            "  (use \"git add <file>...\" to update what will be committed)\n",
            "  (use \"git restore <file>...\" to discard changes in working directory)\n",
            "\t\u001b[31mmodified:   Exploracion.ipynb\u001b[m\n",
            "\n",
            "no changes added to commit (use \"git add\" and/or \"git commit -a\")\n"
          ]
        }
      ]
    },
    {
      "cell_type": "code",
      "source": [
        "!git add .\n",
        "!git commit -m \"Guardado de notebook\"\n",
        "!git push"
      ],
      "metadata": {
        "colab": {
          "base_uri": "https://localhost:8080/"
        },
        "id": "5tV0YRK3nr2_",
        "outputId": "5c6e7457-70bf-49c9-a578-eee57479e1a4"
      },
      "execution_count": 49,
      "outputs": [
        {
          "output_type": "stream",
          "name": "stdout",
          "text": [
            "[main 5c7d963] Guardado de notebook\n",
            " 2 files changed, 1 insertion(+), 1 deletion(-)\n",
            " create mode 100644 Exploracion.ipynb\n",
            " delete mode 100644 \"Primera exploracio\\314\\201n.ipynb\"\n",
            "fatal: could not read Username for 'https://github.com': No such device or address\n"
          ]
        }
      ]
    },
    {
      "cell_type": "markdown",
      "source": [
        "# Exploración de datos"
      ],
      "metadata": {
        "id": "-KOidSb5-IcQ"
      }
    },
    {
      "cell_type": "code",
      "execution_count": null,
      "metadata": {
        "id": "2ngfG0x3-DnM"
      },
      "outputs": [],
      "source": []
    }
  ]
}