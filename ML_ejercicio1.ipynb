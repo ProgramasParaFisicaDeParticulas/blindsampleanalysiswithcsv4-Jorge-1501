{
  "cells": [
    {
      "cell_type": "markdown",
      "metadata": {
        "id": "view-in-github",
        "colab_type": "text"
      },
      "source": [
        "<a href=\"https://colab.research.google.com/github/ProgramasParaFisicaDeParticulas/blindsampleanalysiswithcsv4-Jorge-1501/blob/main/ML_ejercicio1.ipynb\" target=\"_parent\"><img src=\"https://colab.research.google.com/assets/colab-badge.svg\" alt=\"Open In Colab\"/></a>"
      ]
    },
    {
      "cell_type": "markdown",
      "metadata": {
        "id": "lHW3hAJ6osLq"
      },
      "source": [
        "# Ejemplo de una Red Neuronal Convolucional (CNN)"
      ]
    },
    {
      "cell_type": "markdown",
      "metadata": {
        "id": "_mypg0YkosLt"
      },
      "source": [
        "[![Open In Colab](https://colab.research.google.com/assets/colab-badge.svg)](https://colab.research.google.com/github/{user_name}/{repo_name}/blob/{branch_name}/path/to/notebook.ipynb)"
      ]
    },
    {
      "cell_type": "code",
      "execution_count": 1,
      "metadata": {
        "id": "52fx8Mt8osLu",
        "colab": {
          "base_uri": "https://localhost:8080/"
        },
        "outputId": "0b1a0cc3-a658-4007-8d0b-0973b68824f3"
      },
      "outputs": [
        {
          "output_type": "stream",
          "name": "stdout",
          "text": [
            "python: 3.10.12\n",
            "numpy: 1.25.2\n",
            "matplotlib: 3.7.1\n"
          ]
        }
      ],
      "source": [
        "# LIBRERÍAS REQUERIDAS\n",
        "import platform\n",
        "print('python: '+platform.python_version())\n",
        "import numpy as np\n",
        "print('numpy: '+np.__version__)\n",
        "import matplotlib\n",
        "print('matplotlib: '+matplotlib.__version__)\n",
        "import matplotlib.pyplot as plt\n",
        "import pandas as pd"
      ]
    },
    {
      "cell_type": "markdown",
      "metadata": {
        "id": "Q3FqTpucosLv"
      },
      "source": [
        "## Aplicación: Keras\n",
        "Existen diversas aplicaciones de ML que permiten la creación y manejo de CNNs. Una de las más usadas es TensorFlow, la cual podemos utilizar con mayor facilidad a través de la plataforma \"Keras\".\n",
        "\n",
        "Para más información: https://www.tensorflow.org/guide/keras"
      ]
    },
    {
      "cell_type": "code",
      "execution_count": 18,
      "metadata": {
        "id": "Tzm975RoosLw"
      },
      "outputs": [],
      "source": [
        "# Usamos \"keras\" para crear la CNN\n",
        "from keras.models import Sequential\n",
        "from keras.layers import Conv2D, AveragePooling2D"
      ]
    },
    {
      "cell_type": "markdown",
      "metadata": {
        "id": "hwgzPPw_osLw"
      },
      "source": [
        "### Creando una imagen\n",
        "Iniciamos creando una imagen a partir de un arreglo de \"pixeles\", con valores 0 o 1."
      ]
    },
    {
      "cell_type": "code",
      "execution_count": 13,
      "metadata": {
        "id": "WLXpGPoqosLx"
      },
      "outputs": [],
      "source": [
        "# define input data\n",
        "data = [[0, 0, 0, 1, 1, 0, 0, 1],\n",
        " [0, 0, 0, 1, 1, 0, 0, 5],\n",
        " [0, 0, 0, 1, 1, 0, 0, 4],\n",
        " [0, 0, 0, 1, 1, 0, 0, 7],\n",
        " [0, 0, 0, 1, 1, 0, 0, 8],\n",
        " [0, 0, 0, 1, 1, 0, 0, 246],\n",
        " [0, 0, 0, 1, 1, 0, 0, 4],\n",
        " [1, 0, 0, 1, 1, 0, 0, 7]]\n",
        "data = np.asarray(data)\n",
        "\n",
        "# En CNN, un tensor tiene la forma (# de datos)x(# de filas)x(# de columnas)x(# de canales)\n",
        "data = data.reshape(1, 8, 8, 1)"
      ]
    },
    {
      "cell_type": "markdown",
      "metadata": {
        "id": "kFyvce4xosLx"
      },
      "source": [
        "### Creamos el modelo Secuencial"
      ]
    },
    {
      "cell_type": "code",
      "execution_count": 19,
      "metadata": {
        "id": "raGP5SHCosLy",
        "colab": {
          "base_uri": "https://localhost:8080/"
        },
        "outputId": "4124a4f8-5ea6-47c9-bff3-2ebae8197ac4"
      },
      "outputs": [
        {
          "output_type": "stream",
          "name": "stdout",
          "text": [
            "Model: \"sequential_3\"\n",
            "_________________________________________________________________\n",
            " Layer (type)                Output Shape              Param #   \n",
            "=================================================================\n",
            " conv2d_3 (Conv2D)           (None, 6, 6, 1)           10        \n",
            "                                                                 \n",
            " average_pooling2d (Average  (None, 2, 2, 1)           0         \n",
            " Pooling2D)                                                      \n",
            "                                                                 \n",
            "=================================================================\n",
            "Total params: 10 (40.00 Byte)\n",
            "Trainable params: 10 (40.00 Byte)\n",
            "Non-trainable params: 0 (0.00 Byte)\n",
            "_________________________________________________________________\n"
          ]
        }
      ],
      "source": [
        "# Creando el modelo\n",
        "model = Sequential()\n",
        "# Convolución en 2D, con filtro de 3x3, función ReLU, a una imagen de 8x8\n",
        "model.add(Conv2D(1, (3,3), activation='relu', input_shape=(8, 8, 1)))\n",
        "model.add(AveragePooling2D(3))\n",
        "# Resumen del modelo\n",
        "model.summary()"
      ]
    },
    {
      "cell_type": "markdown",
      "metadata": {
        "id": "yXgbqhQsosLy"
      },
      "source": [
        "### Definimos el kernel\n",
        "El objetivo es identificar una línea vertical en la imagen."
      ]
    },
    {
      "cell_type": "code",
      "execution_count": 20,
      "metadata": {
        "id": "llabUdvMosLy"
      },
      "outputs": [],
      "source": [
        "# El objetivo es detectar una línea vertical en la imagen\n",
        "detector = [[[[0]],[[1]],[[0]]],\n",
        "            [[[0]],[[1]],[[0]]],\n",
        "            [[[0]],[[1]],[[0]]]]\n",
        "weights = [np.asarray(detector), np.asarray([0.0])]\n",
        "# Agregar los pesos al modelo\n",
        "model.set_weights(weights)"
      ]
    },
    {
      "cell_type": "markdown",
      "metadata": {
        "id": "stKUFhb0osLz"
      },
      "source": [
        "### Aplicando el kernel(filtro)"
      ]
    },
    {
      "cell_type": "code",
      "execution_count": 21,
      "metadata": {
        "id": "IKMbdGeAosLz",
        "colab": {
          "base_uri": "https://localhost:8080/"
        },
        "outputId": "401b80dd-174a-4027-8b61-15f7bc50790f"
      },
      "outputs": [
        {
          "output_type": "stream",
          "name": "stdout",
          "text": [
            "1/1 [==============================] - 0s 61ms/step\n"
          ]
        }
      ],
      "source": [
        "# Aplicando el kernel usando la función predict()\n",
        "yhat = model.predict(data)"
      ]
    },
    {
      "cell_type": "markdown",
      "metadata": {
        "id": "Acqgc_-sosLz"
      },
      "source": [
        "### Imprimiendo el resultado"
      ]
    },
    {
      "cell_type": "code",
      "execution_count": 22,
      "metadata": {
        "id": "iOAKyg7oosL0",
        "colab": {
          "base_uri": "https://localhost:8080/"
        },
        "outputId": "dadcdcee-52c8-44cc-c41f-c8447426647f"
      },
      "outputs": [
        {
          "output_type": "stream",
          "name": "stdout",
          "text": [
            "[1.0, 1.0]\n",
            "[1.0, 1.0]\n"
          ]
        }
      ],
      "source": [
        "# Renglón por renglón\n",
        "for r in range(yhat.shape[1]):\n",
        " # Columnas\n",
        " print([yhat[0,r,c,0] for c in range(yhat.shape[2])])"
      ]
    },
    {
      "cell_type": "markdown",
      "source": [
        "---"
      ],
      "metadata": {
        "id": "TIzBr7FnzeUE"
      }
    },
    {
      "cell_type": "markdown",
      "source": [
        "## ¿Qué es una función sigmoid?"
      ],
      "metadata": {
        "id": "pl8txF3mzfd6"
      }
    },
    {
      "cell_type": "markdown",
      "source": [
        "Una función sigmoid es una función $f: \\mathbb{R} \\rightarrow (0,1)$ con la regla de asociación\n",
        "\n",
        "\\begin{equation}\n",
        "f(t) = \\frac{1}{1 + e^{-t}}\n",
        "\\end{equation}\n",
        "\n",
        "Como su salida es $(0,1)$ esto hace que sea útil para modelos de clasificación binaria, ya que la salida puede interpretarse como una probabilidad."
      ],
      "metadata": {
        "id": "W4WDKarLzjsQ"
      }
    },
    {
      "cell_type": "markdown",
      "source": [
        "En el contexto de redes neuronales la función <code> sigmoid </code> es una función de activación que ayuda a implementar un estimulo no lineal."
      ],
      "metadata": {
        "id": "z7KG3Rom0t0N"
      }
    },
    {
      "cell_type": "markdown",
      "source": [
        "![image.png](data:image/png;base64,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)"
      ],
      "metadata": {
        "id": "C6l6lc871XiI"
      }
    },
    {
      "cell_type": "code",
      "source": [],
      "metadata": {
        "id": "U1s1-wBx1WmT"
      },
      "execution_count": 22,
      "outputs": []
    },
    {
      "cell_type": "code",
      "source": [],
      "metadata": {
        "id": "-4SJaNVG0tPL"
      },
      "execution_count": 22,
      "outputs": []
    },
    {
      "cell_type": "markdown",
      "source": [],
      "metadata": {
        "id": "NkuLZRoJEUCi"
      }
    },
    {
      "cell_type": "markdown",
      "metadata": {
        "id": "504lE174Z_-F"
      },
      "source": [
        "# Ingreso a Drive y GitHub"
      ]
    },
    {
      "cell_type": "code",
      "execution_count": 23,
      "metadata": {
        "colab": {
          "base_uri": "https://localhost:8080/"
        },
        "id": "V8G4PRQ-r7Gz",
        "outputId": "e131b492-5892-497f-e062-4595b28924ff"
      },
      "outputs": [
        {
          "output_type": "stream",
          "name": "stdout",
          "text": [
            "Mounted at /content/drive\n"
          ]
        }
      ],
      "source": [
        "from google.colab import drive\n",
        "drive.mount('/content/drive')"
      ]
    },
    {
      "cell_type": "code",
      "execution_count": 24,
      "metadata": {
        "colab": {
          "base_uri": "https://localhost:8080/"
        },
        "id": "n6rPAWGrnOTH",
        "outputId": "aa765c22-9a03-4ede-edf0-f0edc1c40ae2"
      },
      "outputs": [
        {
          "output_type": "stream",
          "name": "stdout",
          "text": [
            "/content/drive/MyDrive/Física trabajos\n"
          ]
        }
      ],
      "source": [
        "%cd /content/drive/MyDrive/Física\\ trabajos/"
      ]
    },
    {
      "cell_type": "code",
      "execution_count": 25,
      "metadata": {
        "id": "I7oveAMer7G8"
      },
      "outputs": [],
      "source": [
        "from config import USER_EMAIL, USER_NAME, PASSWORD\n",
        "\n",
        "PASS = PASSWORD\n",
        "USUARIO = USER_NAME\n",
        "EMAIL = USER_EMAIL\n",
        "\n",
        "\n",
        "!git config --global user.email {EMAIL}\n",
        "!git config --global user.name {USUARIO}\n",
        "!git config --global user.password {PASS}"
      ]
    },
    {
      "cell_type": "code",
      "execution_count": 29,
      "metadata": {
        "colab": {
          "base_uri": "https://localhost:8080/"
        },
        "id": "ceHMffamr7G_",
        "outputId": "42a8e790-1f3e-4a38-c96a-18598c876bec"
      },
      "outputs": [
        {
          "output_type": "stream",
          "name": "stdout",
          "text": [
            "/content/drive/MyDrive/Física trabajos/Delfin 2024\n"
          ]
        }
      ],
      "source": [
        "%cd Delfin\\ 2024"
      ]
    },
    {
      "cell_type": "code",
      "source": [
        "%ls"
      ],
      "metadata": {
        "colab": {
          "base_uri": "https://localhost:8080/"
        },
        "id": "2p6n-eAIGf0m",
        "outputId": "c66c9ebe-608f-4074-ed1c-7968d774a9d3"
      },
      "execution_count": 32,
      "outputs": [
        {
          "output_type": "stream",
          "name": "stdout",
          "text": [
            " \u001b[0m\u001b[01;34mblindsampleanalysiswithcsv4-Jorge-1501\u001b[0m/   'Primera exploración.ipynb'\n",
            " \u001b[01;34mcnn-ejerciciosdia1-Jorge-1501\u001b[0m/             Untitled0.ipynb\n",
            " \u001b[01;34mlecturadecvsopendatacvsfiles-Jorge-1501\u001b[0m/\n"
          ]
        }
      ]
    },
    {
      "cell_type": "code",
      "source": [
        "%cd blindsampleanalysiswithcsv4-Jorge-1501/"
      ],
      "metadata": {
        "colab": {
          "base_uri": "https://localhost:8080/"
        },
        "id": "5oNWgxq6Ghfi",
        "outputId": "e0636884-e192-464a-8b7d-3149c59777fb"
      },
      "execution_count": 33,
      "outputs": [
        {
          "output_type": "stream",
          "name": "stdout",
          "text": [
            "/content/drive/MyDrive/Física trabajos/Delfin 2024/blindsampleanalysiswithcsv4-Jorge-1501\n"
          ]
        }
      ]
    },
    {
      "cell_type": "code",
      "source": [
        "!git status"
      ],
      "metadata": {
        "colab": {
          "base_uri": "https://localhost:8080/"
        },
        "id": "52B-qE5jEsVM",
        "outputId": "3cc72bf4-467d-4632-cd02-2def249741bd"
      },
      "execution_count": 34,
      "outputs": [
        {
          "output_type": "stream",
          "name": "stdout",
          "text": [
            "Refresh index: 100% (3/3)\rRefresh index: 100% (3/3), done.\n",
            "On branch main\n",
            "Your branch is ahead of 'origin/main' by 3 commits.\n",
            "  (use \"git push\" to publish your local commits)\n",
            "\n",
            "Changes not staged for commit:\n",
            "  (use \"git add <file>...\" to update what will be committed)\n",
            "  (use \"git restore <file>...\" to discard changes in working directory)\n",
            "\t\u001b[31mmodified:   Exploracion.ipynb\u001b[m\n",
            "\n",
            "no changes added to commit (use \"git add\" and/or \"git commit -a\")\n"
          ]
        }
      ]
    },
    {
      "cell_type": "code",
      "source": [
        "!git add .\n",
        "!git commit -m 'Primer comimt, ejercicio 1'\n",
        "!git push"
      ],
      "metadata": {
        "colab": {
          "base_uri": "https://localhost:8080/"
        },
        "id": "wFTC3raFEuM5",
        "outputId": "11ce1a90-7a1a-413e-c2b8-9160a18d0c7b"
      },
      "execution_count": 35,
      "outputs": [
        {
          "output_type": "stream",
          "name": "stdout",
          "text": [
            "[main 01b776d] Primer comimt, ejercicio 1\n",
            " 1 file changed, 1 insertion(+), 1 deletion(-)\n",
            "fatal: could not read Username for 'https://github.com': No such device or address\n"
          ]
        }
      ]
    },
    {
      "cell_type": "code",
      "source": [],
      "metadata": {
        "id": "lKo21cGgGPuH"
      },
      "execution_count": null,
      "outputs": []
    }
  ],
  "metadata": {
    "kernelspec": {
      "display_name": "py39",
      "language": "python",
      "name": "python3"
    },
    "language_info": {
      "codemirror_mode": {
        "name": "ipython",
        "version": 3
      },
      "file_extension": ".py",
      "mimetype": "text/x-python",
      "name": "python",
      "nbconvert_exporter": "python",
      "pygments_lexer": "ipython3",
      "version": "3.9.18"
    },
    "colab": {
      "provenance": [],
      "include_colab_link": true
    }
  },
  "nbformat": 4,
  "nbformat_minor": 0
}